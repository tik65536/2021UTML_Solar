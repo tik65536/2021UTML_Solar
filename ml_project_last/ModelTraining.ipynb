{
 "cells": [
  {
   "cell_type": "markdown",
   "id": "ac0d9e1a",
   "metadata": {},
   "source": [
    "# Training the model"
   ]
  },
  {
   "cell_type": "markdown",
   "id": "fc95ac30",
   "metadata": {},
   "source": [
    "## Import requirements"
   ]
  },
  {
   "cell_type": "code",
   "execution_count": 1,
   "id": "93aa293f",
   "metadata": {},
   "outputs": [],
   "source": [
    "import torch\n",
    "import pickle\n",
    "import datetime\n",
    "import numpy as np\n",
    "from cpinn import *\n",
    "from torch.utils.tensorboard import SummaryWriter"
   ]
  },
  {
   "cell_type": "code",
   "execution_count": 2,
   "id": "caaf3db3",
   "metadata": {},
   "outputs": [
    {
     "name": "stdout",
     "output_type": "stream",
     "text": [
      "cpu\n"
     ]
    }
   ],
   "source": [
    "# CUDA support \n",
    "if torch.cuda.is_available():\n",
    "    print('cuda')\n",
    "    device = torch.device('cuda')\n",
    "else:\n",
    "    print('cpu')    \n",
    "    device = torch.device('cpu')"
   ]
  },
  {
   "cell_type": "markdown",
   "id": "96e0f859",
   "metadata": {},
   "source": [
    "## Read datas"
   ]
  },
  {
   "cell_type": "code",
   "execution_count": 3,
   "id": "78281175",
   "metadata": {},
   "outputs": [],
   "source": [
    "# training data\n",
    "f=open('tic_datas/model_data2019frame_3lag_4city_timeAdjust_flux_minmaxTransform2','rb')\n",
    "data=pickle.load(f)\n",
    "\n",
    "# validation data\n",
    "f=open('tic_datas/model_data2020frame_3lag_4city_timeAdjust_flux_minmaxTransform2','rb')\n",
    "validation=pickle.load(f)"
   ]
  },
  {
   "cell_type": "markdown",
   "id": "4497a11e",
   "metadata": {},
   "source": [
    "## Initialize variables"
   ]
  },
  {
   "cell_type": "code",
   "execution_count": 4,
   "id": "9c2360ce",
   "metadata": {},
   "outputs": [
    {
     "name": "stdout",
     "output_type": "stream",
     "text": [
      "Training Set birth data len 7067\n",
      "Validation Set birth data len 7885\n"
     ]
    }
   ],
   "source": [
    "birth=data['birth']\n",
    "birth=np.array(birth)\n",
    "\n",
    "y=data['y']\n",
    "y=np.array(y)\n",
    "\n",
    "l=data['local']\n",
    "l=np.array(l)\n",
    "l=l.reshape(-1,9) # 3lags\n",
    "\n",
    "flux=data['flux']\n",
    "flux=np.array(flux)\n",
    "print(f'Training Set birth data len {birth.shape[0]}')\n",
    "\n",
    "vbirth=validation['birth']\n",
    "vbirth=np.array(vbirth)\n",
    "\n",
    "vy=validation['y']\n",
    "vy=np.array(vy)\n",
    "\n",
    "vl=validation['local']\n",
    "vl=np.array(vl)\n",
    "vl=vl.reshape(-1,9) # 3lags\n",
    "\n",
    "vflux=validation['flux']\n",
    "vflux=np.array(vflux)\n",
    "print(f'Validation Set birth data len {vbirth.shape[0]}')\n",
    "\n",
    "slayers = [17, 40, 40, 40, 40, 40, 40, 40, 40, 1] # 3lags\n",
    "pgflayers = [4, 20, 20,20, 20, 20,20, 20, 20, 1]\n",
    "fluxlayers = [7, 20, 20,20,20,20,20,20,20,1]"
   ]
  },
  {
   "cell_type": "markdown",
   "id": "5d34a77b",
   "metadata": {},
   "source": [
    "## Initialize CPINN"
   ]
  },
  {
   "cell_type": "code",
   "execution_count": 5,
   "id": "156c9105",
   "metadata": {},
   "outputs": [],
   "source": [
    "tb = SummaryWriter('CPINN_Integration/'+datetime.datetime.now().strftime(\"%Y%m%d-%H%M%S\")+'_3lags_random_100bsize_4city_timeAdjust_flux_meanNorm_Intergrate2PGF_R42_AllDatainBatch_500epoch_CPU')\n",
    "cpinn = CPINN(birth,vbirth,l,vl,birth[:,5:6,0,:].reshape(-1,3),vbirth[:,5:6,0,:].reshape(-1,3),y,vy,flux,vflux,3,slayers,pgflayers,fluxlayers,birth.shape[0],tb)"
   ]
  },
  {
   "cell_type": "markdown",
   "id": "c9587ed5",
   "metadata": {},
   "source": [
    "## Train section"
   ]
  },
  {
   "cell_type": "code",
   "execution_count": null,
   "id": "1eb93a00-0142-4b54-a9e2-6d8dc1b219d4",
   "metadata": {
    "tags": []
   },
   "outputs": [],
   "source": [
    "cpinn.train(500)"
   ]
  }
 ],
 "metadata": {
  "kernelspec": {
   "display_name": "Python 3 (ipykernel)",
   "language": "python",
   "name": "python3"
  },
  "language_info": {
   "codemirror_mode": {
    "name": "ipython",
    "version": 3
   },
   "file_extension": ".py",
   "mimetype": "text/x-python",
   "name": "python",
   "nbconvert_exporter": "python",
   "pygments_lexer": "ipython3",
   "version": "3.8.8"
  }
 },
 "nbformat": 4,
 "nbformat_minor": 5
}
